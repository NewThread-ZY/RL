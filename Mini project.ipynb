{
 "cells": [
  {
   "cell_type": "code",
   "execution_count": 1,
   "metadata": {
    "id": "2RkZCRQjOWGF"
   },
   "outputs": [],
   "source": [
    "#@title Generic imports\n",
    "import numpy as np\n",
    "from gym import spaces\n",
    "import matplotlib.pyplot as plt\n",
    "from scipy import stats\n",
    "import random"
   ]
  },
  {
   "cell_type": "code",
   "execution_count": 2,
   "metadata": {
    "id": "PGwAdTDEOd2U"
   },
   "outputs": [],
   "source": [
    "#@title RecSim imports\n",
    "from recsim import document\n",
    "from recsim import user\n",
    "from recsim.choice_model import MultinomialLogitChoiceModel\n",
    "from recsim.simulator import environment\n",
    "from recsim.simulator import recsim_gym"
   ]
  },
  {
   "cell_type": "code",
   "execution_count": 3,
   "metadata": {
    "id": "pTwYezHYOfKe"
   },
   "outputs": [],
   "source": [
    "class LTSDocument(document.AbstractDocument):\n",
    "    def __init__(self, doc_id, kaleness):\n",
    "        self.kaleness = kaleness\n",
    "        # doc_id is an integer representing the unique ID of this document\n",
    "        super(LTSDocument, self).__init__(doc_id)\n",
    "\n",
    "    def create_observation(self):\n",
    "        return np.array([self.kaleness])\n",
    "\n",
    "    @staticmethod\n",
    "    def observation_space():\n",
    "        return spaces.Box(shape=(1,), dtype=np.float32, low=0.0, high=1.0)\n",
    "  \n",
    "    def __str__(self):\n",
    "        return \"Document {} with kaleness {}.\".format(self._doc_id, self.kaleness)"
   ]
  },
  {
   "cell_type": "code",
   "execution_count": 4,
   "metadata": {
    "id": "1LNqw8yJPBA3"
   },
   "outputs": [],
   "source": [
    "class LTSDocumentSampler(document.AbstractDocumentSampler):\n",
    "    def __init__(self, doc_ctor=LTSDocument, **kwargs):\n",
    "        super(LTSDocumentSampler, self).__init__(doc_ctor, **kwargs)\n",
    "        self._doc_count = 0\n",
    "\n",
    "    def sample_document(self):\n",
    "        doc_features = {}\n",
    "        doc_features['doc_id'] = self._doc_count\n",
    "        doc_features['kaleness'] = self._rng.random_sample()\n",
    "        self._doc_count += 1\n",
    "        return self._doc_ctor(**doc_features)"
   ]
  },
  {
   "cell_type": "code",
   "execution_count": 5,
   "metadata": {
    "colab": {
     "base_uri": "https://localhost:8080/"
    },
    "id": "PS_N_ck6P5Jd",
    "outputId": "5d71c5ba-c473-4ce8-a389-83fdacd3464c"
   },
   "outputs": [
    {
     "name": "stdout",
     "output_type": "stream",
     "text": [
      "Document 0 with kaleness 0.5488135039273248.\n",
      "Document 1 with kaleness 0.7151893663724195.\n",
      "Document 2 with kaleness 0.6027633760716439.\n",
      "Document 3 with kaleness 0.5448831829968969.\n",
      "Document 4 with kaleness 0.4236547993389047.\n",
      "Documents have observation space: Box(0.0, 1.0, (1,), float32) \n",
      "An example realization is:  [0.64589411]\n"
     ]
    }
   ],
   "source": [
    "sampler = LTSDocumentSampler()\n",
    "for i in range(5): print(sampler.sample_document())\n",
    "d = sampler.sample_document()\n",
    "print(\"Documents have observation space:\", d.observation_space(), \"\\n\"\n",
    "      \"An example realization is: \", d.create_observation())"
   ]
  },
  {
   "cell_type": "code",
   "execution_count": 6,
   "metadata": {
    "id": "pS73gedmQKez"
   },
   "outputs": [],
   "source": [
    "class LTSUserState(user.AbstractUserState):\n",
    "    def __init__(self, memory_discount, sensitivity, innovation_stddev,\n",
    "               choc_mean, choc_stddev, kale_mean, kale_stddev,\n",
    "               net_kaleness_exposure, time_budget, observation_noise_stddev=0.1\n",
    "              ):\n",
    "        ## Transition model parameters\n",
    "        ##############################\n",
    "        self.memory_discount = memory_discount\n",
    "        self.sensitivity = sensitivity\n",
    "        self.innovation_stddev = innovation_stddev\n",
    "\n",
    "        ## Engagement parameters\n",
    "        self.choc_mean = choc_mean\n",
    "        self.choc_stddev = choc_stddev\n",
    "        self.kale_mean = kale_mean\n",
    "        self.kale_stddev = kale_stddev\n",
    "\n",
    "        ## State variables\n",
    "        ##############################\n",
    "        self.net_kaleness_exposure = net_kaleness_exposure\n",
    "        self.satisfaction = 1 / (1 + np.exp(-sensitivity * net_kaleness_exposure))\n",
    "        self.time_budget = time_budget\n",
    "\n",
    "        # Noise\n",
    "        self._observation_noise = observation_noise_stddev\n",
    "\n",
    "    def create_observation(self):\n",
    "        \"\"\"User's state is not observable.\"\"\"\n",
    "        clip_low, clip_high = (-1.0 / (1.0 * self._observation_noise),\n",
    "                               1.0 / (1.0 * self._observation_noise))\n",
    "        noise = stats.truncnorm(\n",
    "            clip_low, clip_high, loc=0.0, scale=self._observation_noise).rvs()\n",
    "        noisy_sat = self.satisfaction + noise\n",
    "        return np.array([noisy_sat,])\n",
    "\n",
    "    @staticmethod\n",
    "    def observation_space():\n",
    "        return spaces.Box(shape=(1,), dtype=np.float32, low=-2.0, high=2.0)\n",
    "  \n",
    "    # scoring function for use in the choice model -- the user is more likely to\n",
    "    # click on more chocolatey content.\n",
    "    def score_document(self, doc_obs):\n",
    "        return 1 - doc_obs"
   ]
  },
  {
   "cell_type": "code",
   "execution_count": 7,
   "metadata": {
    "id": "a1KoLbKdWD9O"
   },
   "outputs": [],
   "source": [
    "class LTSStaticUserSampler(user.AbstractUserSampler):\n",
    "    _state_parameters = None\n",
    "\n",
    "    def __init__(self,\n",
    "               user_ctor=LTSUserState,\n",
    "               memory_discount=0.9,\n",
    "               sensitivity=0.01,\n",
    "               innovation_stddev=0.05,\n",
    "               choc_mean=5.0,\n",
    "               choc_stddev=1.0,\n",
    "               kale_mean=4.0,\n",
    "               kale_stddev=1.0,\n",
    "               time_budget=60,\n",
    "               **kwargs):\n",
    "        self._state_parameters = {'memory_discount': memory_discount,\n",
    "                                  'sensitivity': sensitivity,\n",
    "                                  'innovation_stddev': innovation_stddev,\n",
    "                                  'choc_mean': choc_mean,\n",
    "                                  'choc_stddev': choc_stddev,\n",
    "                                  'kale_mean': kale_mean,\n",
    "                                  'kale_stddev': kale_stddev,\n",
    "                                  'time_budget': time_budget\n",
    "                                 }\n",
    "        super(LTSStaticUserSampler, self).__init__(user_ctor, **kwargs)\n",
    "\n",
    "    def sample_user(self):\n",
    "        starting_nke = ((self._rng.random_sample() - .5) *\n",
    "                        (1 / (1.0 - self._state_parameters['memory_discount'])))\n",
    "        self._state_parameters['net_kaleness_exposure'] = starting_nke\n",
    "        return self._user_ctor(**self._state_parameters)"
   ]
  },
  {
   "cell_type": "code",
   "execution_count": 8,
   "metadata": {
    "colab": {
     "base_uri": "https://localhost:8080/",
     "height": 265
    },
    "id": "nRaIZsXJbFpv",
    "outputId": "b9112b98-9656-401d-884c-952902e2edfa"
   },
   "outputs": [
    {
     "data": {
      "image/png": "[encoded data removed]",
      "text/plain": [
       "<Figure size 432x288 with 1 Axes>"
      ]
     },
     "metadata": {
      "needs_background": "light"
     },
     "output_type": "display_data"
    }
   ],
   "source": [
    "sampler = LTSStaticUserSampler()\n",
    "starting_nke = []\n",
    "for i in range(1000):\n",
    "    sampled_user = sampler.sample_user()\n",
    "    starting_nke.append(sampled_user.net_kaleness_exposure)\n",
    "_ = plt.hist(starting_nke)"
   ]
  },
  {
   "cell_type": "code",
   "execution_count": 9,
   "metadata": {
    "id": "0nInNiPwbKNq"
   },
   "outputs": [],
   "source": [
    "class LTSResponse(user.AbstractResponse):\n",
    "    # The maximum degree of engagement.\n",
    "    MAX_ENGAGEMENT_MAGNITUDE = 100.0\n",
    "\n",
    "    def __init__(self, clicked=False, engagement=0.0):\n",
    "        self.clicked = clicked\n",
    "        self.engagement = engagement\n",
    "\n",
    "    def create_observation(self):\n",
    "        return {'click': int(self.clicked), 'engagement': np.array(self.engagement)}\n",
    "\n",
    "    @classmethod\n",
    "    def response_space(cls):\n",
    "        # `engagement` feature range is [0, MAX_ENGAGEMENT_MAGNITUDE]\n",
    "        return spaces.Dict({\n",
    "            'click':\n",
    "                spaces.Discrete(2),\n",
    "            'engagement':\n",
    "                spaces.Box(\n",
    "                    low=0.0,\n",
    "                    high=cls.MAX_ENGAGEMENT_MAGNITUDE,\n",
    "                    shape=tuple(),\n",
    "                    dtype=np.float32)\n",
    "        })"
   ]
  },
  {
   "cell_type": "code",
   "execution_count": 10,
   "metadata": {
    "id": "FyftUUVuba3z"
   },
   "outputs": [],
   "source": [
    "def user_init(self,\n",
    "              slate_size,\n",
    "              seed=0):\n",
    "\n",
    "    super(LTSUserModel,\n",
    "        self).__init__(LTSResponse,\n",
    "                       LTSStaticUserSampler(LTSUserState,\n",
    "                                            seed=seed), slate_size)\n",
    "    self.choice_model = MultinomialLogitChoiceModel({})"
   ]
  },
  {
   "cell_type": "code",
   "execution_count": 11,
   "metadata": {
    "id": "x3D2QYk7d8XC"
   },
   "outputs": [],
   "source": [
    "def simulate_response(self, slate_documents):\n",
    "    # List of empty responses\n",
    "    responses = [self._response_model_ctor() for _ in slate_documents]\n",
    "    # Get click from of choice model.\n",
    "    self.choice_model.score_documents(\n",
    "    self._user_state, [doc.create_observation() for doc in slate_documents])\n",
    "    scores = self.choice_model.scores\n",
    "    selected_index = self.choice_model.choose_item()\n",
    "    # Populate clicked item.\n",
    "    self._generate_response(slate_documents[selected_index],\n",
    "                          responses[selected_index])\n",
    "    return responses\n",
    "\n",
    "def generate_response(self, doc, response):\n",
    "    response.clicked = True\n",
    "    # linear interpolation between choc and kale.\n",
    "    engagement_loc = (doc.kaleness * self._user_state.choc_mean\n",
    "                    + (1 - doc.kaleness) * self._user_state.kale_mean)\n",
    "    engagement_loc *= self._user_state.satisfaction\n",
    "    engagement_scale = (doc.kaleness * self._user_state.choc_stddev\n",
    "                      + ((1 - doc.kaleness)\n",
    "                          * self._user_state.kale_stddev))\n",
    "    log_engagement = np.random.normal(loc=engagement_loc,\n",
    "                                    scale=engagement_scale)\n",
    "    response.engagement = np.exp(log_engagement)"
   ]
  },
  {
   "cell_type": "code",
   "execution_count": 12,
   "metadata": {
    "id": "amUXFTeQeGSs"
   },
   "outputs": [],
   "source": [
    "def update_state(self, slate_documents, responses):\n",
    "    for doc, response in zip(slate_documents, responses):\n",
    "        if response.clicked:\n",
    "            innovation = np.random.normal(scale=self._user_state.innovation_stddev)\n",
    "            net_kaleness_exposure = (self._user_state.memory_discount\n",
    "                                    * self._user_state.net_kaleness_exposure\n",
    "                                    - 2.0 * (doc.kaleness - 0.5)\n",
    "                                    + innovation\n",
    "                                  )\n",
    "            self._user_state.net_kaleness_exposure = net_kaleness_exposure\n",
    "            satisfaction = 1 / (1.0 + np.exp(-self._user_state.sensitivity\n",
    "                                            * net_kaleness_exposure)\n",
    "                              )\n",
    "            self._user_state.satisfaction = satisfaction\n",
    "            self._user_state.time_budget -= 1\n",
    "            return"
   ]
  },
  {
   "cell_type": "code",
   "execution_count": 13,
   "metadata": {
    "id": "aelPBPGYeLPF"
   },
   "outputs": [],
   "source": [
    "def is_terminal(self):\n",
    "    \"\"\"Returns a boolean indicating if the session is over.\"\"\"\n",
    "    return self._user_state.time_budget <= 0"
   ]
  },
  {
   "cell_type": "code",
   "execution_count": 14,
   "metadata": {
    "id": "q50JfNJgeOR3"
   },
   "outputs": [],
   "source": [
    "LTSUserModel = type(\"LTSUserModel\", (user.AbstractUserModel,),\n",
    "                    {\"__init__\": user_init,\n",
    "                     \"is_terminal\": is_terminal,\n",
    "                     \"update_state\": update_state,\n",
    "                     \"simulate_response\": simulate_response,\n",
    "                     \"_generate_response\": generate_response})"
   ]
  },
  {
   "cell_type": "code",
   "execution_count": 15,
   "metadata": {
    "id": "-Dd2JEyReWJX"
   },
   "outputs": [],
   "source": [
    "slate_size = 3\n",
    "num_candidates = 10\n",
    "ltsenv = environment.Environment(\n",
    "        LTSUserModel(slate_size),\n",
    "        LTSDocumentSampler(),\n",
    "        num_candidates,\n",
    "        slate_size,\n",
    "        resample_documents=True)"
   ]
  },
  {
   "cell_type": "code",
   "execution_count": 16,
   "metadata": {
    "id": "vOklpi0reZbZ"
   },
   "outputs": [],
   "source": [
    "def clicked_engagement_reward(responses):\n",
    "    reward = 0.0\n",
    "    for response in responses:\n",
    "        if response.clicked:\n",
    "            reward += response.engagement\n",
    "    return reward"
   ]
  },
  {
   "cell_type": "code",
   "execution_count": 17,
   "metadata": {
    "id": "FCTePxYMfDUa"
   },
   "outputs": [],
   "source": [
    "lts_gym_env = recsim_gym.RecSimGymEnv(ltsenv, clicked_engagement_reward)"
   ]
  },
  {
   "cell_type": "code",
   "execution_count": 18,
   "metadata": {
    "colab": {
     "base_uri": "https://localhost:8080/"
    },
    "id": "OU71z4FCfIpC",
    "outputId": "1f068018-c6f6-4a58-b9d9-cf3e45ac323b"
   },
   "outputs": [
    {
     "name": "stdout",
     "output_type": "stream",
     "text": [
      "Observation 0\n",
      "Available documents\n",
      "doc_id 10 kaleness [0.79172504]\n",
      "doc_id 11 kaleness [0.52889492]\n",
      "doc_id 12 kaleness [0.56804456]\n",
      "doc_id 13 kaleness [0.92559664]\n",
      "doc_id 14 kaleness [0.07103606]\n",
      "doc_id 15 kaleness [0.0871293]\n",
      "doc_id 16 kaleness [0.0202184]\n",
      "doc_id 17 kaleness [0.83261985]\n",
      "doc_id 18 kaleness [0.77815675]\n",
      "doc_id 19 kaleness [0.87001215]\n",
      "Noisy user state observation\n",
      "[0.47601281]\n",
      "Observation 1\n",
      "Available documents\n",
      "doc_id 20 kaleness [0.97861834]\n",
      "doc_id 21 kaleness [0.79915856]\n",
      "doc_id 22 kaleness [0.46147936]\n",
      "doc_id 23 kaleness [0.78052918]\n",
      "doc_id 24 kaleness [0.11827443]\n",
      "doc_id 25 kaleness [0.63992102]\n",
      "doc_id 26 kaleness [0.14335329]\n",
      "doc_id 27 kaleness [0.94466892]\n",
      "doc_id 28 kaleness [0.52184832]\n",
      "doc_id 29 kaleness [0.41466194]\n",
      "User responses to documents in the slate\n",
      "{'click': 0, 'engagement': array(0.)}\n",
      "{'click': 1, 'engagement': array(5.32531837)}\n",
      "{'click': 0, 'engagement': array(0.)}\n",
      "Noisy user state observation\n",
      "[0.49696067]\n"
     ]
    }
   ],
   "source": [
    "observation_0 = lts_gym_env.reset()\n",
    "print('Observation 0')\n",
    "print('Available documents')\n",
    "doc_strings = ['doc_id ' + key + \" kaleness \" + str(value) for key, value\n",
    "               in observation_0['doc'].items()]\n",
    "print('\\n'.join(doc_strings))\n",
    "print('Noisy user state observation')\n",
    "print(observation_0['user'])\n",
    "\n",
    "\n",
    "\n",
    "\n",
    "# Agent recommends the first three documents.\n",
    "recommendation_slate_0 = [0, 1, 2]\n",
    "observation_1, reward, done, _ = lts_gym_env.step(recommendation_slate_0)\n",
    "print('Observation 1')\n",
    "print('Available documents')\n",
    "doc_strings = ['doc_id ' + key + \" kaleness \" + str(value) for key, value\n",
    "               in observation_1['doc'].items()]\n",
    "print('\\n'.join(doc_strings))\n",
    "rsp_strings = [str(response) for response in observation_1['response']]\n",
    "print('User responses to documents in the slate')\n",
    "print('\\n'.join(rsp_strings))\n",
    "print('Noisy user state observation')\n",
    "print(observation_1['user'])"
   ]
  },
  {
   "cell_type": "markdown",
   "metadata": {
    "id": "G_GH5Y26hCm1"
   },
   "source": [
    "# Agent"
   ]
  },
  {
   "cell_type": "code",
   "execution_count": 19,
   "metadata": {
    "id": "a4aLFzGqhEpd"
   },
   "outputs": [],
   "source": [
    "# @title Imports\n",
    "# Generic imports\n",
    "import functools\n",
    "from gym import spaces\n",
    "import numpy as np\n",
    "import matplotlib.pyplot as plt\n",
    "from scipy import stats\n",
    "# RecSim imports\n",
    "from recsim import agent\n",
    "from recsim import document\n",
    "from recsim import user\n",
    "from recsim.choice_model import MultinomialLogitChoiceModel\n",
    "from recsim.simulator import environment\n",
    "from recsim.simulator import recsim_gym\n",
    "from recsim.simulator import runner_lib"
   ]
  },
  {
   "cell_type": "code",
   "execution_count": 20,
   "metadata": {
    "id": "FJmaHIPSZ7fR"
   },
   "outputs": [],
   "source": [
    "from recsim.environments import interest_exploration"
   ]
  },
  {
   "cell_type": "code",
   "execution_count": 21,
   "metadata": {
    "id": "sPNV1ho1aB1f"
   },
   "outputs": [],
   "source": [
    "env_config = {'slate_size': 2,\n",
    "              'seed': 0,\n",
    "              'num_candidates': 40,\n",
    "              'resample_documents': True}\n",
    "ie_environment = interest_exploration.create_environment(env_config)"
   ]
  },
  {
   "cell_type": "code",
   "execution_count": 22,
   "metadata": {
    "id": "46SPVoKhaOjI"
   },
   "outputs": [],
   "source": [
    "initial_observation = ie_environment.reset()"
   ]
  },
  {
   "cell_type": "code",
   "execution_count": 23,
   "metadata": {
    "colab": {
     "base_uri": "https://localhost:8080/"
    },
    "id": "BL28WUpdaVlV",
    "outputId": "e6aa13af-b503-4120-e251-14005b410a9c"
   },
   "outputs": [
    {
     "name": "stdout",
     "output_type": "stream",
     "text": [
      "User Observable Features\n",
      "[]\n",
      "User Response\n",
      "None\n",
      "Document Observable Features\n",
      "ID: 40 features: {'quality': array(1.19644888), 'cluster_id': 1}\n",
      "ID: 41 features: {'quality': array(1.28254021), 'cluster_id': 1}\n",
      "ID: 42 features: {'quality': array(2.01558539), 'cluster_id': 0}\n",
      "ID: 43 features: {'quality': array(2.46400483), 'cluster_id': 0}\n",
      "ID: 44 features: {'quality': array(1.33980633), 'cluster_id': 1}\n",
      "ID: 45 features: {'quality': array(1.11574393), 'cluster_id': 1}\n",
      "ID: 46 features: {'quality': array(1.46868751), 'cluster_id': 1}\n",
      "ID: 47 features: {'quality': array(1.42269182), 'cluster_id': 1}\n",
      "ID: 48 features: {'quality': array(1.21281521), 'cluster_id': 1}\n",
      "ID: 49 features: {'quality': array(1.29746968), 'cluster_id': 1}\n",
      "ID: 50 features: {'quality': array(1.33743281), 'cluster_id': 1}\n",
      "ID: 51 features: {'quality': array(1.15190571), 'cluster_id': 1}\n",
      "ID: 52 features: {'quality': array(1.34629971), 'cluster_id': 1}\n",
      "ID: 53 features: {'quality': array(1.24698455), 'cluster_id': 1}\n",
      "ID: 54 features: {'quality': array(1.29775896), 'cluster_id': 1}\n",
      "ID: 55 features: {'quality': array(1.22161785), 'cluster_id': 1}\n",
      "ID: 56 features: {'quality': array(1.19231005), 'cluster_id': 1}\n",
      "ID: 57 features: {'quality': array(1.22793573), 'cluster_id': 1}\n",
      "ID: 58 features: {'quality': array(1.32813005), 'cluster_id': 1}\n",
      "ID: 59 features: {'quality': array(1.05231117), 'cluster_id': 1}\n",
      "ID: 60 features: {'quality': array(2.36424144), 'cluster_id': 0}\n",
      "ID: 61 features: {'quality': array(1.02602712), 'cluster_id': 1}\n",
      "ID: 62 features: {'quality': array(1.38976934), 'cluster_id': 1}\n",
      "ID: 63 features: {'quality': array(1.39106498), 'cluster_id': 1}\n",
      "ID: 64 features: {'quality': array(1.10914968), 'cluster_id': 1}\n",
      "ID: 65 features: {'quality': array(1.00092254), 'cluster_id': 1}\n",
      "ID: 66 features: {'quality': array(1.1519066), 'cluster_id': 1}\n",
      "ID: 67 features: {'quality': array(1.25844547), 'cluster_id': 1}\n",
      "ID: 68 features: {'quality': array(1.21582783), 'cluster_id': 1}\n",
      "ID: 69 features: {'quality': array(1.2275126), 'cluster_id': 1}\n",
      "ID: 70 features: {'quality': array(2.30721859), 'cluster_id': 0}\n",
      "ID: 71 features: {'quality': array(1.2722854), 'cluster_id': 1}\n",
      "ID: 72 features: {'quality': array(1.24518746), 'cluster_id': 1}\n",
      "ID: 73 features: {'quality': array(1.17106491), 'cluster_id': 1}\n",
      "ID: 74 features: {'quality': array(1.3970955), 'cluster_id': 1}\n",
      "ID: 75 features: {'quality': array(2.05069324), 'cluster_id': 0}\n",
      "ID: 76 features: {'quality': array(1.14326657), 'cluster_id': 1}\n",
      "ID: 77 features: {'quality': array(1.08543508), 'cluster_id': 1}\n",
      "ID: 78 features: {'quality': array(1.37675902), 'cluster_id': 1}\n",
      "ID: 79 features: {'quality': array(1.47452424), 'cluster_id': 1}\n"
     ]
    }
   ],
   "source": [
    "print('User Observable Features')\n",
    "print(initial_observation['user'])\n",
    "print('User Response')\n",
    "print(initial_observation['response'])\n",
    "print('Document Observable Features')\n",
    "for doc_id, doc_features in initial_observation['doc'].items():\n",
    "    print('ID:', doc_id, 'features:', doc_features)"
   ]
  },
  {
   "cell_type": "code",
   "execution_count": 24,
   "metadata": {
    "colab": {
     "base_uri": "https://localhost:8080/",
     "height": 712
    },
    "id": "I7Y-_EdihMQu",
    "outputId": "f1810e2e-fd8b-4796-d2b3-da642ff152b6"
   },
   "outputs": [
    {
     "name": "stdout",
     "output_type": "stream",
     "text": [
      "Document observation space\n",
      "40 : Dict(cluster_id:Discrete(2), quality:Box(0.0, inf, (), float32))\n",
      "41 : Dict(cluster_id:Discrete(2), quality:Box(0.0, inf, (), float32))\n",
      "42 : Dict(cluster_id:Discrete(2), quality:Box(0.0, inf, (), float32))\n",
      "43 : Dict(cluster_id:Discrete(2), quality:Box(0.0, inf, (), float32))\n",
      "44 : Dict(cluster_id:Discrete(2), quality:Box(0.0, inf, (), float32))\n",
      "45 : Dict(cluster_id:Discrete(2), quality:Box(0.0, inf, (), float32))\n",
      "46 : Dict(cluster_id:Discrete(2), quality:Box(0.0, inf, (), float32))\n",
      "47 : Dict(cluster_id:Discrete(2), quality:Box(0.0, inf, (), float32))\n",
      "48 : Dict(cluster_id:Discrete(2), quality:Box(0.0, inf, (), float32))\n",
      "49 : Dict(cluster_id:Discrete(2), quality:Box(0.0, inf, (), float32))\n",
      "50 : Dict(cluster_id:Discrete(2), quality:Box(0.0, inf, (), float32))\n",
      "51 : Dict(cluster_id:Discrete(2), quality:Box(0.0, inf, (), float32))\n",
      "52 : Dict(cluster_id:Discrete(2), quality:Box(0.0, inf, (), float32))\n",
      "53 : Dict(cluster_id:Discrete(2), quality:Box(0.0, inf, (), float32))\n",
      "54 : Dict(cluster_id:Discrete(2), quality:Box(0.0, inf, (), float32))\n",
      "55 : Dict(cluster_id:Discrete(2), quality:Box(0.0, inf, (), float32))\n",
      "56 : Dict(cluster_id:Discrete(2), quality:Box(0.0, inf, (), float32))\n",
      "57 : Dict(cluster_id:Discrete(2), quality:Box(0.0, inf, (), float32))\n",
      "58 : Dict(cluster_id:Discrete(2), quality:Box(0.0, inf, (), float32))\n",
      "59 : Dict(cluster_id:Discrete(2), quality:Box(0.0, inf, (), float32))\n",
      "60 : Dict(cluster_id:Discrete(2), quality:Box(0.0, inf, (), float32))\n",
      "61 : Dict(cluster_id:Discrete(2), quality:Box(0.0, inf, (), float32))\n",
      "62 : Dict(cluster_id:Discrete(2), quality:Box(0.0, inf, (), float32))\n",
      "63 : Dict(cluster_id:Discrete(2), quality:Box(0.0, inf, (), float32))\n",
      "64 : Dict(cluster_id:Discrete(2), quality:Box(0.0, inf, (), float32))\n",
      "65 : Dict(cluster_id:Discrete(2), quality:Box(0.0, inf, (), float32))\n",
      "66 : Dict(cluster_id:Discrete(2), quality:Box(0.0, inf, (), float32))\n",
      "67 : Dict(cluster_id:Discrete(2), quality:Box(0.0, inf, (), float32))\n",
      "68 : Dict(cluster_id:Discrete(2), quality:Box(0.0, inf, (), float32))\n",
      "69 : Dict(cluster_id:Discrete(2), quality:Box(0.0, inf, (), float32))\n",
      "70 : Dict(cluster_id:Discrete(2), quality:Box(0.0, inf, (), float32))\n",
      "71 : Dict(cluster_id:Discrete(2), quality:Box(0.0, inf, (), float32))\n",
      "72 : Dict(cluster_id:Discrete(2), quality:Box(0.0, inf, (), float32))\n",
      "73 : Dict(cluster_id:Discrete(2), quality:Box(0.0, inf, (), float32))\n",
      "74 : Dict(cluster_id:Discrete(2), quality:Box(0.0, inf, (), float32))\n",
      "75 : Dict(cluster_id:Discrete(2), quality:Box(0.0, inf, (), float32))\n",
      "76 : Dict(cluster_id:Discrete(2), quality:Box(0.0, inf, (), float32))\n",
      "77 : Dict(cluster_id:Discrete(2), quality:Box(0.0, inf, (), float32))\n",
      "78 : Dict(cluster_id:Discrete(2), quality:Box(0.0, inf, (), float32))\n",
      "79 : Dict(cluster_id:Discrete(2), quality:Box(0.0, inf, (), float32))\n",
      "Response observation space\n",
      "Tuple(Dict(click:Discrete(2), cluster_id:Discrete(2), quality:Box(0.0, inf, (), float32)), Dict(click:Discrete(2), cluster_id:Discrete(2), quality:Box(0.0, inf, (), float32)))\n",
      "User observation space\n",
      "Box([], [], (0,), float32)\n"
     ]
    }
   ],
   "source": [
    "print('Document observation space')\n",
    "for key, space in ie_environment.observation_space['doc'].spaces.items():\n",
    "    print(key, ':', space)\n",
    "print('Response observation space')\n",
    "print(ie_environment.observation_space['response'])\n",
    "print('User observation space')\n",
    "print(ie_environment.observation_space['user'])"
   ]
  },
  {
   "cell_type": "code",
   "execution_count": 25,
   "metadata": {
    "colab": {
     "base_uri": "https://localhost:8080/"
    },
    "id": "c0kq5_OOmjj0",
    "outputId": "c957614d-0682-431d-b4b6-2b70bedd1b06"
   },
   "outputs": [
    {
     "name": "stdout",
     "output_type": "stream",
     "text": [
      "('40', {'quality': array(1.19644888), 'cluster_id': 1})\n",
      "('41', {'quality': array(1.28254021), 'cluster_id': 1})\n"
     ]
    }
   ],
   "source": [
    "slate = [0, 1]\n",
    "for slate_doc in slate:\n",
    "    print(list(initial_observation['doc'].items())[slate_doc])"
   ]
  },
  {
   "cell_type": "code",
   "execution_count": 26,
   "metadata": {
    "colab": {
     "base_uri": "https://localhost:8080/"
    },
    "id": "F6T0excbt5Lw",
    "outputId": "31c244c9-d0ba-4699-b80b-098ff037e946"
   },
   "outputs": [
    {
     "data": {
      "text/plain": [
       "MultiDiscrete([40 40])"
      ]
     },
     "execution_count": 26,
     "metadata": {},
     "output_type": "execute_result"
    }
   ],
   "source": [
    "ie_environment.action_space"
   ]
  },
  {
   "cell_type": "code",
   "execution_count": 27,
   "metadata": {
    "id": "m4x42Jh3GndG"
   },
   "outputs": [],
   "source": [
    "observation, reward, done, _ = ie_environment.step(slate)"
   ]
  },
  {
   "cell_type": "code",
   "execution_count": 28,
   "metadata": {},
   "outputs": [
    {
     "data": {
      "text/plain": [
       "{'user': array([], dtype=float64),\n",
       " 'doc': OrderedDict([('80', {'quality': array(1.31182905), 'cluster_id': 1}),\n",
       "              ('81', {'quality': array(1.53485104), 'cluster_id': 1}),\n",
       "              ('82', {'quality': array(1.11880782), 'cluster_id': 1}),\n",
       "              ('83', {'quality': array(1.03861828), 'cluster_id': 1}),\n",
       "              ('84', {'quality': array(1.90483927), 'cluster_id': 0}),\n",
       "              ('85', {'quality': array(1.21476849), 'cluster_id': 1}),\n",
       "              ('86', {'quality': array(1.85683258), 'cluster_id': 0}),\n",
       "              ('87', {'quality': array(1.14669338), 'cluster_id': 1}),\n",
       "              ('88', {'quality': array(1.24551604), 'cluster_id': 1}),\n",
       "              ('89', {'quality': array(1.16513804), 'cluster_id': 1}),\n",
       "              ('90', {'quality': array(1.30358862), 'cluster_id': 1}),\n",
       "              ('91', {'quality': array(1.09084252), 'cluster_id': 1}),\n",
       "              ('92', {'quality': array(2.05909246), 'cluster_id': 0}),\n",
       "              ('93', {'quality': array(1.36559994), 'cluster_id': 1}),\n",
       "              ('94', {'quality': array(1.27435637), 'cluster_id': 1}),\n",
       "              ('95', {'quality': array(1.36196826), 'cluster_id': 1}),\n",
       "              ('96', {'quality': array(1.15607935), 'cluster_id': 1}),\n",
       "              ('97', {'quality': array(1.28674088), 'cluster_id': 1}),\n",
       "              ('98', {'quality': array(1.11463218), 'cluster_id': 1}),\n",
       "              ('99', {'quality': array(1.33085791), 'cluster_id': 1}),\n",
       "              ('100', {'quality': array(1.00999116), 'cluster_id': 1}),\n",
       "              ('101', {'quality': array(1.09007018), 'cluster_id': 1}),\n",
       "              ('102', {'quality': array(1.35635129), 'cluster_id': 1}),\n",
       "              ('103', {'quality': array(2.28187108), 'cluster_id': 0}),\n",
       "              ('104', {'quality': array(1.27165419), 'cluster_id': 1}),\n",
       "              ('105', {'quality': array(1.14064521), 'cluster_id': 1}),\n",
       "              ('106', {'quality': array(1.18151435), 'cluster_id': 1}),\n",
       "              ('107', {'quality': array(1.18576716), 'cluster_id': 1}),\n",
       "              ('108', {'quality': array(1.27027169), 'cluster_id': 1}),\n",
       "              ('109', {'quality': array(2.27997273), 'cluster_id': 0}),\n",
       "              ('110', {'quality': array(1.28309604), 'cluster_id': 1}),\n",
       "              ('111', {'quality': array(1.2324589), 'cluster_id': 1}),\n",
       "              ('112', {'quality': array(1.24695871), 'cluster_id': 1}),\n",
       "              ('113', {'quality': array(1.28704167), 'cluster_id': 1}),\n",
       "              ('114', {'quality': array(1.14193195), 'cluster_id': 1}),\n",
       "              ('115', {'quality': array(1.23779609), 'cluster_id': 1}),\n",
       "              ('116', {'quality': array(1.17912798), 'cluster_id': 1}),\n",
       "              ('117', {'quality': array(1.32570801), 'cluster_id': 1}),\n",
       "              ('118', {'quality': array(1.2868518), 'cluster_id': 1}),\n",
       "              ('119', {'quality': array(1.37675046), 'cluster_id': 1})]),\n",
       " 'response': ({'click': 0, 'quality': array(1.19644888), 'cluster_id': 1},\n",
       "  {'click': 0, 'quality': array(1.28254021), 'cluster_id': 1})}"
      ]
     },
     "execution_count": 28,
     "metadata": {},
     "output_type": "execute_result"
    }
   ],
   "source": [
    "observation"
   ]
  },
  {
   "cell_type": "code",
   "execution_count": 29,
   "metadata": {
    "id": "2_AsKMWoGoX-"
   },
   "outputs": [],
   "source": [
    "from recsim.agent import AbstractEpisodicRecommenderAgent"
   ]
  },
  {
   "cell_type": "code",
   "execution_count": 30,
   "metadata": {},
   "outputs": [],
   "source": [
    "import numpy as np"
   ]
  },
  {
   "cell_type": "code",
   "execution_count": 31,
   "metadata": {},
   "outputs": [
    {
     "name": "stderr",
     "output_type": "stream",
     "text": [
      "/Users/zeyu/miniforge3/envs/tensorflow/lib/python3.8/site-packages/tensorflow/python/framework/dtypes.py:585: DeprecationWarning: `np.object` is a deprecated alias for the builtin `object`. To silence this warning, use `object` by itself. Doing this will not modify any behavior and is safe. \n",
      "Deprecated in NumPy 1.20; for more details and guidance: https://numpy.org/devdocs/release/1.20.0-notes.html#deprecations\n",
      "  np.object,\n",
      "/Users/zeyu/miniforge3/envs/tensorflow/lib/python3.8/site-packages/tensorflow/python/framework/dtypes.py:637: DeprecationWarning: `np.bool` is a deprecated alias for the builtin `bool`. To silence this warning, use `bool` by itself. Doing this will not modify any behavior and is safe. If you specifically wanted the numpy scalar type, use `np.bool_` here.\n",
      "Deprecated in NumPy 1.20; for more details and guidance: https://numpy.org/devdocs/release/1.20.0-notes.html#deprecations\n",
      "  np.bool,\n",
      "/Users/zeyu/miniforge3/envs/tensorflow/lib/python3.8/site-packages/tensorflow/python/framework/tensor_util.py:108: DeprecationWarning: `np.object` is a deprecated alias for the builtin `object`. To silence this warning, use `object` by itself. Doing this will not modify any behavior and is safe. \n",
      "Deprecated in NumPy 1.20; for more details and guidance: https://numpy.org/devdocs/release/1.20.0-notes.html#deprecations\n",
      "  np.object:\n",
      "/Users/zeyu/miniforge3/envs/tensorflow/lib/python3.8/site-packages/tensorflow/python/framework/tensor_util.py:110: DeprecationWarning: `np.bool` is a deprecated alias for the builtin `bool`. To silence this warning, use `bool` by itself. Doing this will not modify any behavior and is safe. If you specifically wanted the numpy scalar type, use `np.bool_` here.\n",
      "Deprecated in NumPy 1.20; for more details and guidance: https://numpy.org/devdocs/release/1.20.0-notes.html#deprecations\n",
      "  np.bool:\n",
      "/Users/zeyu/miniforge3/envs/tensorflow/lib/python3.8/site-packages/tensorflow/python/ops/numpy_ops/np_random.py:110: DeprecationWarning: `np.int` is a deprecated alias for the builtin `int`. To silence this warning, use `int` by itself. Doing this will not modify any behavior and is safe. When replacing `np.int`, you may wish to use e.g. `np.int64` or `np.int32` to specify the precision. If you wish to review your current use, check the release note link for additional information.\n",
      "Deprecated in NumPy 1.20; for more details and guidance: https://numpy.org/devdocs/release/1.20.0-notes.html#deprecations\n",
      "  def randint(low, high=None, size=None, dtype=onp.int):  # pylint: disable=missing-function-docstring\n"
     ]
    }
   ],
   "source": [
    "#Build RNN as the representation of user’s dynamic preference of recommendations prec\n",
    "import numpy as np\n",
    "import tensorflow as tf\n",
    "from tensorflow import keras\n",
    "from tensorflow.keras import layers"
   ]
  },
  {
   "cell_type": "code",
   "execution_count": 119,
   "metadata": {},
   "outputs": [],
   "source": [
    "class DqnAgent:\n",
    "    def __init__(self):\n",
    "        self.q_net = self._build_dqn_model()\n",
    "        self.target_q_net = self._build_dqn_model()\n",
    "    def _build_dqn_model():\n",
    "        q_net = keras.Sequential()\n",
    "        q_net.add(Dense(64, input_dim=4, activation='relu', kernel_initializer='he_uniform'))\n",
    "        q_net.add(Dense(32, activation='relu', kernel_initializer='he_uniform'))\n",
    "        q_net.add(Dense(2, activation='linear', kernel_initializer='he_uniform'))\n",
    "        q_net.compile(optimizer=tf.optimizers.Adam(learning_rate=0.001), loss='mse')\n",
    "        return q_net"
   ]
  },
  {
   "cell_type": "code",
   "execution_count": 138,
   "metadata": {
    "id": "ViJphxBLKgRM"
   },
   "outputs": [],
   "source": [
    "class StaticAgent(AbstractEpisodicRecommenderAgent):\n",
    "    def __init__(self, observation_space, action_space):\n",
    "        # Check if document corpus is large enough.\n",
    "        self.i=0\n",
    "        self.observation_space = observation_space\n",
    "        self.action_space = action_space\n",
    "        self.RNN_model = keras.Sequential()\n",
    "        #print((observation_space['doc']))\n",
    "        if len(observation_space['doc'].spaces) < len(action_space.nvec):\n",
    "            raise RuntimeError('Slate size larger than size of the corpus.')\n",
    "        super(StaticAgent, self).__init__(action_space)\n",
    "\n",
    "    def step(self, reward, observation):\n",
    "        doc_feature = []\n",
    "        for doc_id, doc_features in observation['doc'].items():\n",
    "            #print('ID:', doc_id, 'features:', doc_features)\n",
    "            doc_feature.append(np.array(doc_features))\n",
    "        self.doc_feature = np.array(doc_feature)\n",
    "        if self.i != 0:\n",
    "            # Old Status S:\n",
    "            old_user_status  = self.user_status\n",
    "            old_browsing_history = self.browsing_history\n",
    "            old_re_hist = self.re_hist\n",
    "            old_click_id = self.click_id\n",
    "            old_click_watching_hist = []\n",
    "            old_click_watching_hist = self.click_watching_hist\n",
    "            old_ptad = self.ptad\n",
    "            \n",
    "            #####\n",
    "            #New status St+1\n",
    "            self.user_status = observation['user']\n",
    "            #Get user's watcing history\n",
    "            history = []\n",
    "            for i in list(observation['doc'].values()):\n",
    "                history.extend(i)\n",
    "            self.browsing_history = history\n",
    "            # Get the recommendation history\n",
    "            re_hist = []\n",
    "            if observation['response'] == None:\n",
    "                re_hist.extend(['0', '0'])\n",
    "            else:\n",
    "                for i in observation['response']:\n",
    "                    re_hist.append(i['cluster_id'])\n",
    "            self.re_hist = re_hist\n",
    "            # Get which recommedation was clicked by user\n",
    "            click_watching_hist = []\n",
    "            click_watching_hist.extend(self.browsing_history)\n",
    "            click_watching_hist.extend(re_hist)\n",
    "            # Get p(t)ad\n",
    "            click_cluster_id = []\n",
    "            click_list = []\n",
    "            if observation['response']!=None:\n",
    "                for q in observation['response']:\n",
    "                    if q['click']!=0:\n",
    "                        click_cluster_id.append(q['cluster_id'])\n",
    "                    else:\n",
    "                        click_cluster_id.append(-1)\n",
    "            else:\n",
    "                click_cluster_id.append(-1)\n",
    "            self.click_id = click_list\n",
    "            self.ptad = click_cluster_id\n",
    "            click_watching_hist.extend(self.ptad)\n",
    "            click_watching_hist.extend(self.user_status)\n",
    "            self.click_watching_hist = click_watching_hist\n",
    "            #print(f'old = {old_click_watching_hist}, new ={click_watching_hist}')\n",
    "        else:\n",
    "            #First time\n",
    "            self.user_status = observation['user']\n",
    "            #Get user's watcing history\n",
    "            history = []\n",
    "            for i in list(observation['doc'].values()):\n",
    "                history.extend(i)\n",
    "            self.browsing_history = history\n",
    "            # Get the recommendation history\n",
    "            re_hist = []\n",
    "            if observation['response'] == None:\n",
    "                re_hist.extend(['-1', '-1'])\n",
    "            else:\n",
    "                for i in observation['response']:\n",
    "                    re_hist.append(i['cluster_id'])\n",
    "            self.re_hist = re_hist\n",
    "            # Get which recommedation was clicked by user\n",
    "            click_id = []\n",
    "            if observation['response'] == None:\n",
    "                click_id.append(-1)\n",
    "                click_id.append(-1)\n",
    "            else:\n",
    "                for i in observation['response']:\n",
    "                    if i['click'] == 0:\n",
    "                        click_id.append(0)\n",
    "                    else:\n",
    "                        click_id.append(i['cluster_id'])\n",
    "            self.click_id = click_id\n",
    "            click_watching_hist = []\n",
    "            click_watching_hist.extend(self.browsing_history)\n",
    "            click_watching_hist.extend([-1, -1])\n",
    "            click_watching_hist.extend(click_id)\n",
    "            click_watching_hist.extend(self.user_status)\n",
    "            self.click_watching_hist = click_watching_hist\n",
    "            # Get p(t)ad\n",
    "            self.ptad = -1\n",
    "        if self.i == 0:\n",
    "            self.RNN_model.add(layers.Embedding(input_dim=len(click_watching_hist), output_dim=64))\n",
    "            self.RNN_model.add(layers.GRU(256, return_sequences=True))\n",
    "            self.RNN_model.add(layers.SimpleRNN(128))\n",
    "            self.RNN_model.add(layers.Dense(64))\n",
    "            self.RNN_model.compile(\n",
    "                loss=keras.losses.SparseCategoricalCrossentropy(from_logits=True),\n",
    "                optimizer=\"sgd\",\n",
    "                metrics=[\"accuracy\"],\n",
    "            )\n",
    "            #calculate rect\n",
    "            num_document_rec = len(self.doc_feature[0])\n",
    "            n_rec_doc_w = np.array([random.uniform(0, 1) for i in range(num_document_rec)])\n",
    "            n_rec_doc_b = np.array([random.uniform(0, 1) for i in range(len(observation['doc'].items()))])\n",
    "            doc_feature = self.doc_feature.T\n",
    "            rect = np.tanh(np.dot(n_rec_doc_w, doc_feature)+n_rec_doc_b)\n",
    "            self.n_rec_doc_w = n_rec_doc_w\n",
    "            self.n_rec_doc_b = n_rec_doc_b\n",
    "            recomdation = rect.argsort()[-2:][::-1]\n",
    "            self.recomdation = recomdation\n",
    "            self.i+=1\n",
    "            return(list(recomdation))\n",
    "        else:\n",
    "            click_cluster_id = []\n",
    "            click_list = []\n",
    "            if observation['response']!=None:\n",
    "                for q in observation['response']:\n",
    "                    if q['click']!=0:\n",
    "                        click_cluster_id.append(q['cluster_id'])\n",
    "                    else:\n",
    "                        click_cluster_id.append(-1)\n",
    "            else:\n",
    "                click_cluster_id.append(-1)\n",
    "            states = self.RNN_model.fit(\n",
    "                old_click_watching_hist, click_watching_hist, batch_size=1, epochs=1\n",
    "            )\n",
    "            prec = list(self.RNN_model.layers[2].weights[-1].numpy())#prec, pad\n",
    "            prec.extend(list(self.recomdation))\n",
    "            # st = prec\n",
    "            # print(len(st))\n",
    "            # #Calcualte Q Net:\n",
    "            # q_net =  DqnAgent()\n",
    "            # state_input = tf.convert_to_tensor(st, dtype=tf.float32)\n",
    "            # action_q = q_net.q_net(state_input)\n",
    "            \n",
    "            \n",
    "            \n",
    "            \n",
    "            print(prec)\n",
    "            return(list(self.recomdation))\n",
    "        #print(observation)"
   ]
  },
  {
   "cell_type": "code",
   "execution_count": 139,
   "metadata": {
    "colab": {
     "base_uri": "https://localhost:8080/",
     "height": 478
    },
    "id": "5oqpO1ouKuus",
    "outputId": "dae35081-ae66-40cf-be2a-0edec3d54850"
   },
   "outputs": [],
   "source": [
    "def create_agent(sess, environment, eval_mode, summary_writer=None):\n",
    "    return StaticAgent(environment.observation_space, environment.action_space)\n",
    "\n",
    "tmp_base_dir = '/tmp/recsim/'\n",
    "\n",
    "runner = runner_lib.EvalRunner(\n",
    "  base_dir=tmp_base_dir,\n",
    "  create_agent_fn=create_agent,\n",
    "  env=ie_environment,\n",
    "  max_eval_episodes=1,\n",
    "  max_steps_per_episode=5,\n",
    "  test_mode=True)"
   ]
  },
  {
   "cell_type": "code",
   "execution_count": null,
   "metadata": {},
   "outputs": [],
   "source": []
  },
  {
   "cell_type": "code",
   "execution_count": null,
   "metadata": {},
   "outputs": [],
   "source": []
  },
  {
   "cell_type": "code",
   "execution_count": 140,
   "metadata": {},
   "outputs": [],
   "source": [
    "seed = 0\n",
    "np.random.seed(seed)\n",
    "env_config = {\n",
    "  'num_candidates': 30,\n",
    "  'slate_size': 2,\n",
    "  'resample_documents': True,\n",
    "  'seed': seed,\n",
    "  }"
   ]
  },
  {
   "cell_type": "code",
   "execution_count": 141,
   "metadata": {},
   "outputs": [],
   "source": [
    "from recsim.environments import interest_evolution\n",
    "from recsim.simulator import runner_lib"
   ]
  },
  {
   "cell_type": "code",
   "execution_count": 142,
   "metadata": {},
   "outputs": [],
   "source": [
    "from keras.layers import Activation, Dense"
   ]
  },
  {
   "cell_type": "code",
   "execution_count": 143,
   "metadata": {},
   "outputs": [
    {
     "name": "stderr",
     "output_type": "stream",
     "text": [
      "2022-04-07 23:00:12.968655: I tensorflow/core/grappler/optimizers/custom_graph_optimizer_registry.cc:112] Plugin optimizer for device_type GPU is enabled.\n",
      "2022-04-07 23:00:13.284461: I tensorflow/core/grappler/optimizers/custom_graph_optimizer_registry.cc:112] Plugin optimizer for device_type GPU is enabled.\n",
      "2022-04-07 23:00:13.404489: I tensorflow/core/grappler/optimizers/custom_graph_optimizer_registry.cc:112] Plugin optimizer for device_type GPU is enabled.\n"
     ]
    },
    {
     "name": "stdout",
     "output_type": "stream",
     "text": [
      "624/624 [==============================] - 11s 15ms/step - loss: 0.7295 - accuracy: 0.9119\n",
      "[-0.14672115, -0.21708445, -0.10815136, 0.0533668, -0.19440165, -0.036271337, 0.18183234, 0.17078516, 0.17542793, 0.18092827, 0.1805657, -0.16429439, -0.22474511, 0.16742858, 0.10543479, 0.076229796, -0.08416854, -0.16718459, 0.17166659, -0.0065000895, -0.04447981, -0.16079067, -0.14729828, -0.14263041, 0.2059322, -0.016666792, -0.13703825, 0.15795633, -0.027197152, -0.105350345, 0.18262295, -0.21640347, -0.17296192, 0.06969164, 0.15423808, -0.010643802, 0.25069416, 0.1858392, -0.18293618, -0.063956305, -0.16668165, -0.17353275, -0.09984568, -0.023347616, -0.050890695, -0.13659987, 0.19762927, 0.042349447, 0.22017874, 0.11951448, -0.17884468, 0.032371778, -0.09465898, -0.047569074, -0.0919089, 0.08672755, -0.035382483, -0.20417227, -0.0052092997, -0.12103232, 0.2329901, 0.0358365, 0.058464, -0.045617845, 0.14157443, 0.18764354, -0.21502028, 0.0680705, 0.05478522, 0.122407764, -0.07384559, 0.107656345, -0.071820855, -0.084335245, 0.10252826, -0.12694654, 0.06831324, -0.050500505, 0.09793499, -0.15643615, -0.10461422, 0.019691233, 0.09654475, 0.0356166, -0.10742328, -0.12570448, -0.022997286, 0.028679276, 0.029732024, -0.21485703, -0.1298075, -0.1338675, -0.17630112, -0.0047643343, -0.006954131, 0.20857298, 0.15963013, 0.19331117, 0.096467584, 0.22669917, 0.16563156, 0.16569111, 0.12278731, -0.12455357, -0.038749505, 0.1419523, 0.13902748, -0.15750654, -0.13261518, -0.23886354, 0.25764385, -0.18648027, -0.08902617, 0.2013225, -0.09138154, 0.022018267, -0.2666972, -0.11394487, -0.017453449, 0.19215246, -0.0998564, -0.090659305, -0.034948297, 0.046664216, 0.19596718, 0.19111659, 0.11897273, -0.06794831, 3, 16]\n",
      "624/624 [==============================] - 9s 14ms/step - loss: 0.2458 - accuracy: 0.9135\n",
      "[-0.16526406, -0.21735238, -0.12616447, 0.07035341, -0.19023514, -0.043874886, 0.18468556, 0.18749003, 0.1705615, 0.18894987, 0.19033384, -0.17148677, -0.2341564, 0.16802324, 0.120096125, 0.077124074, -0.08589828, -0.160962, 0.16427617, 0.0018466461, -0.06259823, -0.16194104, -0.16185959, -0.14844199, 0.20975855, -0.02436581, -0.1545184, 0.16645508, -0.018669793, -0.095451534, 0.17784826, -0.23462105, -0.18812211, 0.08743502, 0.14640933, -0.006822317, 0.26184967, 0.17701584, -0.19740547, -0.057183083, -0.18368578, -0.18929066, -0.103467144, -0.030288907, -0.06308573, -0.15575166, 0.21364008, 0.05512322, 0.2148468, 0.13292824, -0.18891917, 0.025393717, -0.10905516, -0.06757456, -0.0892178, 0.08479916, -0.049831353, -0.22035116, 0.012907024, -0.11202926, 0.24835259, 0.037328005, 0.077727795, -0.057446864, 0.13725144, 0.201541, -0.23278676, 0.05403497, 0.07211849, 0.122230224, -0.07819999, 0.12484309, -0.07796843, -0.09884434, 0.11101111, -0.13595377, 0.0753462, -0.057576615, 0.11416457, -0.17572775, -0.10882552, 0.033390187, 0.107226364, 0.025753757, -0.10648426, -0.12821208, -0.019916471, 0.03431069, 0.040242713, -0.22553533, -0.13102043, -0.12655634, -0.17784844, -0.015780192, -0.012188723, 0.2054915, 0.15634944, 0.21146367, 0.08937378, 0.22986768, 0.17427236, 0.17779961, 0.11926262, -0.1446019, -0.055759452, 0.15968788, 0.13417071, -0.15967475, -0.11657017, -0.25298655, 0.27730286, -0.18508911, -0.08269143, 0.219006, -0.09047842, 0.01617751, -0.27892676, -0.13020062, -0.0020886755, 0.20043209, -0.10604363, -0.09676154, -0.054281946, 0.047395494, 0.21201046, 0.21024694, 0.13644905, -0.072828725, 3, 16]\n",
      "371/624 [================>.............] - ETA: 3s - loss: 0.2365 - accuracy: 0.9111"
     ]
    },
    {
     "ename": "KeyboardInterrupt",
     "evalue": "",
     "output_type": "error",
     "traceback": [
      "\u001b[0;31m---------------------------------------------------------------------------\u001b[0m",
      "\u001b[0;31mKeyboardInterrupt\u001b[0m                         Traceback (most recent call last)",
      "\u001b[0;32m/var/folders/0f/brs6kj9d6bbftjh0sk1763yh0000gn/T/ipykernel_61892/2712117065.py\u001b[0m in \u001b[0;36m<module>\u001b[0;34m\u001b[0m\n\u001b[1;32m      7\u001b[0m     \u001b[0mmax_training_steps\u001b[0m\u001b[0;34m=\u001b[0m\u001b[0;36m50\u001b[0m\u001b[0;34m,\u001b[0m\u001b[0;34m\u001b[0m\u001b[0;34m\u001b[0m\u001b[0m\n\u001b[1;32m      8\u001b[0m     num_iterations=10)\n\u001b[0;32m----> 9\u001b[0;31m \u001b[0mrunner\u001b[0m\u001b[0;34m.\u001b[0m\u001b[0mrun_experiment\u001b[0m\u001b[0;34m(\u001b[0m\u001b[0;34m)\u001b[0m\u001b[0;34m\u001b[0m\u001b[0;34m\u001b[0m\u001b[0m\n\u001b[0m",
      "\u001b[0;32m~/miniforge3/envs/tensorflow/lib/python3.8/site-packages/recsim/simulator/runner_lib.py\u001b[0m in \u001b[0;36mrun_experiment\u001b[0;34m(self)\u001b[0m\n\u001b[1;32m    351\u001b[0m     \u001b[0;32mfor\u001b[0m \u001b[0miteration\u001b[0m \u001b[0;32min\u001b[0m \u001b[0mrange\u001b[0m\u001b[0;34m(\u001b[0m\u001b[0mstart_iter\u001b[0m\u001b[0;34m,\u001b[0m \u001b[0mself\u001b[0m\u001b[0;34m.\u001b[0m\u001b[0m_num_iterations\u001b[0m\u001b[0;34m)\u001b[0m\u001b[0;34m:\u001b[0m\u001b[0;34m\u001b[0m\u001b[0;34m\u001b[0m\u001b[0m\n\u001b[1;32m    352\u001b[0m       \u001b[0mlogging\u001b[0m\u001b[0;34m.\u001b[0m\u001b[0minfo\u001b[0m\u001b[0;34m(\u001b[0m\u001b[0;34m'Starting iteration %d'\u001b[0m\u001b[0;34m,\u001b[0m \u001b[0miteration\u001b[0m\u001b[0;34m)\u001b[0m\u001b[0;34m\u001b[0m\u001b[0;34m\u001b[0m\u001b[0m\n\u001b[0;32m--> 353\u001b[0;31m       \u001b[0mtotal_steps\u001b[0m \u001b[0;34m=\u001b[0m \u001b[0mself\u001b[0m\u001b[0;34m.\u001b[0m\u001b[0m_run_train_phase\u001b[0m\u001b[0;34m(\u001b[0m\u001b[0mtotal_steps\u001b[0m\u001b[0;34m)\u001b[0m\u001b[0;34m\u001b[0m\u001b[0;34m\u001b[0m\u001b[0m\n\u001b[0m\u001b[1;32m    354\u001b[0m       \u001b[0;32mif\u001b[0m \u001b[0miteration\u001b[0m \u001b[0;34m%\u001b[0m \u001b[0mself\u001b[0m\u001b[0;34m.\u001b[0m\u001b[0m_checkpoint_frequency\u001b[0m \u001b[0;34m==\u001b[0m \u001b[0;36m0\u001b[0m\u001b[0;34m:\u001b[0m\u001b[0;34m\u001b[0m\u001b[0;34m\u001b[0m\u001b[0m\n\u001b[1;32m    355\u001b[0m         \u001b[0mself\u001b[0m\u001b[0;34m.\u001b[0m\u001b[0m_checkpoint_experiment\u001b[0m\u001b[0;34m(\u001b[0m\u001b[0miteration\u001b[0m\u001b[0;34m,\u001b[0m \u001b[0mtotal_steps\u001b[0m\u001b[0;34m)\u001b[0m\u001b[0;34m\u001b[0m\u001b[0;34m\u001b[0m\u001b[0m\n",
      "\u001b[0;32m~/miniforge3/envs/tensorflow/lib/python3.8/site-packages/recsim/simulator/runner_lib.py\u001b[0m in \u001b[0;36m_run_train_phase\u001b[0;34m(self, total_steps)\u001b[0m\n\u001b[1;32m    363\u001b[0m \u001b[0;34m\u001b[0m\u001b[0m\n\u001b[1;32m    364\u001b[0m     \u001b[0;32mwhile\u001b[0m \u001b[0mnum_steps\u001b[0m \u001b[0;34m<\u001b[0m \u001b[0mself\u001b[0m\u001b[0;34m.\u001b[0m\u001b[0m_max_training_steps\u001b[0m\u001b[0;34m:\u001b[0m\u001b[0;34m\u001b[0m\u001b[0;34m\u001b[0m\u001b[0m\n\u001b[0;32m--> 365\u001b[0;31m       \u001b[0mepisode_length\u001b[0m\u001b[0;34m,\u001b[0m \u001b[0m_\u001b[0m \u001b[0;34m=\u001b[0m \u001b[0mself\u001b[0m\u001b[0;34m.\u001b[0m\u001b[0m_run_one_episode\u001b[0m\u001b[0;34m(\u001b[0m\u001b[0;34m)\u001b[0m\u001b[0;34m\u001b[0m\u001b[0;34m\u001b[0m\u001b[0m\n\u001b[0m\u001b[1;32m    366\u001b[0m       \u001b[0mnum_steps\u001b[0m \u001b[0;34m+=\u001b[0m \u001b[0mepisode_length\u001b[0m\u001b[0;34m\u001b[0m\u001b[0;34m\u001b[0m\u001b[0m\n\u001b[1;32m    367\u001b[0m \u001b[0;34m\u001b[0m\u001b[0m\n",
      "\u001b[0;32m~/miniforge3/envs/tensorflow/lib/python3.8/site-packages/recsim/simulator/runner_lib.py\u001b[0m in \u001b[0;36m_run_one_episode\u001b[0;34m(self)\u001b[0m\n\u001b[1;32m    250\u001b[0m         \u001b[0;32mbreak\u001b[0m\u001b[0;34m\u001b[0m\u001b[0;34m\u001b[0m\u001b[0m\n\u001b[1;32m    251\u001b[0m       \u001b[0;32melse\u001b[0m\u001b[0;34m:\u001b[0m\u001b[0;34m\u001b[0m\u001b[0;34m\u001b[0m\u001b[0m\n\u001b[0;32m--> 252\u001b[0;31m         \u001b[0maction\u001b[0m \u001b[0;34m=\u001b[0m \u001b[0mself\u001b[0m\u001b[0;34m.\u001b[0m\u001b[0m_agent\u001b[0m\u001b[0;34m.\u001b[0m\u001b[0mstep\u001b[0m\u001b[0;34m(\u001b[0m\u001b[0mreward\u001b[0m\u001b[0;34m,\u001b[0m \u001b[0mobservation\u001b[0m\u001b[0;34m)\u001b[0m\u001b[0;34m\u001b[0m\u001b[0;34m\u001b[0m\u001b[0m\n\u001b[0m\u001b[1;32m    253\u001b[0m \u001b[0;34m\u001b[0m\u001b[0m\n\u001b[1;32m    254\u001b[0m     \u001b[0mself\u001b[0m\u001b[0;34m.\u001b[0m\u001b[0m_agent\u001b[0m\u001b[0;34m.\u001b[0m\u001b[0mend_episode\u001b[0m\u001b[0;34m(\u001b[0m\u001b[0mreward\u001b[0m\u001b[0;34m,\u001b[0m \u001b[0mobservation\u001b[0m\u001b[0;34m)\u001b[0m\u001b[0;34m\u001b[0m\u001b[0;34m\u001b[0m\u001b[0m\n",
      "\u001b[0;32m/var/folders/0f/brs6kj9d6bbftjh0sk1763yh0000gn/T/ipykernel_61892/1395540321.py\u001b[0m in \u001b[0;36mstep\u001b[0;34m(self, reward, observation)\u001b[0m\n\u001b[1;32m    133\u001b[0m             \u001b[0;32melse\u001b[0m\u001b[0;34m:\u001b[0m\u001b[0;34m\u001b[0m\u001b[0;34m\u001b[0m\u001b[0m\n\u001b[1;32m    134\u001b[0m                 \u001b[0mclick_cluster_id\u001b[0m\u001b[0;34m.\u001b[0m\u001b[0mappend\u001b[0m\u001b[0;34m(\u001b[0m\u001b[0;34m-\u001b[0m\u001b[0;36m1\u001b[0m\u001b[0;34m)\u001b[0m\u001b[0;34m\u001b[0m\u001b[0;34m\u001b[0m\u001b[0m\n\u001b[0;32m--> 135\u001b[0;31m             states = self.RNN_model.fit(\n\u001b[0m\u001b[1;32m    136\u001b[0m                 \u001b[0mold_click_watching_hist\u001b[0m\u001b[0;34m,\u001b[0m \u001b[0mclick_watching_hist\u001b[0m\u001b[0;34m,\u001b[0m \u001b[0mbatch_size\u001b[0m\u001b[0;34m=\u001b[0m\u001b[0;36m1\u001b[0m\u001b[0;34m,\u001b[0m \u001b[0mepochs\u001b[0m\u001b[0;34m=\u001b[0m\u001b[0;36m1\u001b[0m\u001b[0;34m\u001b[0m\u001b[0;34m\u001b[0m\u001b[0m\n\u001b[1;32m    137\u001b[0m             )\n",
      "\u001b[0;32m~/miniforge3/envs/tensorflow/lib/python3.8/site-packages/keras/engine/training.py\u001b[0m in \u001b[0;36mfit\u001b[0;34m(self, x, y, batch_size, epochs, verbose, callbacks, validation_split, validation_data, shuffle, class_weight, sample_weight, initial_epoch, steps_per_epoch, validation_steps, validation_batch_size, validation_freq, max_queue_size, workers, use_multiprocessing)\u001b[0m\n\u001b[1;32m   1182\u001b[0m                 _r=1):\n\u001b[1;32m   1183\u001b[0m               \u001b[0mcallbacks\u001b[0m\u001b[0;34m.\u001b[0m\u001b[0mon_train_batch_begin\u001b[0m\u001b[0;34m(\u001b[0m\u001b[0mstep\u001b[0m\u001b[0;34m)\u001b[0m\u001b[0;34m\u001b[0m\u001b[0;34m\u001b[0m\u001b[0m\n\u001b[0;32m-> 1184\u001b[0;31m               \u001b[0mtmp_logs\u001b[0m \u001b[0;34m=\u001b[0m \u001b[0mself\u001b[0m\u001b[0;34m.\u001b[0m\u001b[0mtrain_function\u001b[0m\u001b[0;34m(\u001b[0m\u001b[0miterator\u001b[0m\u001b[0;34m)\u001b[0m\u001b[0;34m\u001b[0m\u001b[0;34m\u001b[0m\u001b[0m\n\u001b[0m\u001b[1;32m   1185\u001b[0m               \u001b[0;32mif\u001b[0m \u001b[0mdata_handler\u001b[0m\u001b[0;34m.\u001b[0m\u001b[0mshould_sync\u001b[0m\u001b[0;34m:\u001b[0m\u001b[0;34m\u001b[0m\u001b[0;34m\u001b[0m\u001b[0m\n\u001b[1;32m   1186\u001b[0m                 \u001b[0mcontext\u001b[0m\u001b[0;34m.\u001b[0m\u001b[0masync_wait\u001b[0m\u001b[0;34m(\u001b[0m\u001b[0;34m)\u001b[0m\u001b[0;34m\u001b[0m\u001b[0;34m\u001b[0m\u001b[0m\n",
      "\u001b[0;32m~/miniforge3/envs/tensorflow/lib/python3.8/site-packages/tensorflow/python/eager/def_function.py\u001b[0m in \u001b[0;36m__call__\u001b[0;34m(self, *args, **kwds)\u001b[0m\n\u001b[1;32m    883\u001b[0m \u001b[0;34m\u001b[0m\u001b[0m\n\u001b[1;32m    884\u001b[0m       \u001b[0;32mwith\u001b[0m \u001b[0mOptionalXlaContext\u001b[0m\u001b[0;34m(\u001b[0m\u001b[0mself\u001b[0m\u001b[0;34m.\u001b[0m\u001b[0m_jit_compile\u001b[0m\u001b[0;34m)\u001b[0m\u001b[0;34m:\u001b[0m\u001b[0;34m\u001b[0m\u001b[0;34m\u001b[0m\u001b[0m\n\u001b[0;32m--> 885\u001b[0;31m         \u001b[0mresult\u001b[0m \u001b[0;34m=\u001b[0m \u001b[0mself\u001b[0m\u001b[0;34m.\u001b[0m\u001b[0m_call\u001b[0m\u001b[0;34m(\u001b[0m\u001b[0;34m*\u001b[0m\u001b[0margs\u001b[0m\u001b[0;34m,\u001b[0m \u001b[0;34m**\u001b[0m\u001b[0mkwds\u001b[0m\u001b[0;34m)\u001b[0m\u001b[0;34m\u001b[0m\u001b[0;34m\u001b[0m\u001b[0m\n\u001b[0m\u001b[1;32m    886\u001b[0m \u001b[0;34m\u001b[0m\u001b[0m\n\u001b[1;32m    887\u001b[0m       \u001b[0mnew_tracing_count\u001b[0m \u001b[0;34m=\u001b[0m \u001b[0mself\u001b[0m\u001b[0;34m.\u001b[0m\u001b[0mexperimental_get_tracing_count\u001b[0m\u001b[0;34m(\u001b[0m\u001b[0;34m)\u001b[0m\u001b[0;34m\u001b[0m\u001b[0;34m\u001b[0m\u001b[0m\n",
      "\u001b[0;32m~/miniforge3/envs/tensorflow/lib/python3.8/site-packages/tensorflow/python/eager/def_function.py\u001b[0m in \u001b[0;36m_call\u001b[0;34m(self, *args, **kwds)\u001b[0m\n\u001b[1;32m    915\u001b[0m       \u001b[0;31m# In this case we have created variables on the first call, so we run the\u001b[0m\u001b[0;34m\u001b[0m\u001b[0;34m\u001b[0m\u001b[0;34m\u001b[0m\u001b[0m\n\u001b[1;32m    916\u001b[0m       \u001b[0;31m# defunned version which is guaranteed to never create variables.\u001b[0m\u001b[0;34m\u001b[0m\u001b[0;34m\u001b[0m\u001b[0;34m\u001b[0m\u001b[0m\n\u001b[0;32m--> 917\u001b[0;31m       \u001b[0;32mreturn\u001b[0m \u001b[0mself\u001b[0m\u001b[0;34m.\u001b[0m\u001b[0m_stateless_fn\u001b[0m\u001b[0;34m(\u001b[0m\u001b[0;34m*\u001b[0m\u001b[0margs\u001b[0m\u001b[0;34m,\u001b[0m \u001b[0;34m**\u001b[0m\u001b[0mkwds\u001b[0m\u001b[0;34m)\u001b[0m  \u001b[0;31m# pylint: disable=not-callable\u001b[0m\u001b[0;34m\u001b[0m\u001b[0;34m\u001b[0m\u001b[0m\n\u001b[0m\u001b[1;32m    918\u001b[0m     \u001b[0;32melif\u001b[0m \u001b[0mself\u001b[0m\u001b[0;34m.\u001b[0m\u001b[0m_stateful_fn\u001b[0m \u001b[0;32mis\u001b[0m \u001b[0;32mnot\u001b[0m \u001b[0;32mNone\u001b[0m\u001b[0;34m:\u001b[0m\u001b[0;34m\u001b[0m\u001b[0;34m\u001b[0m\u001b[0m\n\u001b[1;32m    919\u001b[0m       \u001b[0;31m# Release the lock early so that multiple threads can perform the call\u001b[0m\u001b[0;34m\u001b[0m\u001b[0;34m\u001b[0m\u001b[0;34m\u001b[0m\u001b[0m\n",
      "\u001b[0;32m~/miniforge3/envs/tensorflow/lib/python3.8/site-packages/tensorflow/python/eager/function.py\u001b[0m in \u001b[0;36m__call__\u001b[0;34m(self, *args, **kwargs)\u001b[0m\n\u001b[1;32m   3037\u001b[0m       (graph_function,\n\u001b[1;32m   3038\u001b[0m        filtered_flat_args) = self._maybe_define_function(args, kwargs)\n\u001b[0;32m-> 3039\u001b[0;31m     return graph_function._call_flat(\n\u001b[0m\u001b[1;32m   3040\u001b[0m         filtered_flat_args, captured_inputs=graph_function.captured_inputs)  # pylint: disable=protected-access\n\u001b[1;32m   3041\u001b[0m \u001b[0;34m\u001b[0m\u001b[0m\n",
      "\u001b[0;32m~/miniforge3/envs/tensorflow/lib/python3.8/site-packages/tensorflow/python/eager/function.py\u001b[0m in \u001b[0;36m_call_flat\u001b[0;34m(self, args, captured_inputs, cancellation_manager)\u001b[0m\n\u001b[1;32m   1961\u001b[0m         and executing_eagerly):\n\u001b[1;32m   1962\u001b[0m       \u001b[0;31m# No tape is watching; skip to running the function.\u001b[0m\u001b[0;34m\u001b[0m\u001b[0;34m\u001b[0m\u001b[0;34m\u001b[0m\u001b[0m\n\u001b[0;32m-> 1963\u001b[0;31m       return self._build_call_outputs(self._inference_function.call(\n\u001b[0m\u001b[1;32m   1964\u001b[0m           ctx, args, cancellation_manager=cancellation_manager))\n\u001b[1;32m   1965\u001b[0m     forward_backward = self._select_forward_and_backward_functions(\n",
      "\u001b[0;32m~/miniforge3/envs/tensorflow/lib/python3.8/site-packages/tensorflow/python/eager/function.py\u001b[0m in \u001b[0;36mcall\u001b[0;34m(self, ctx, args, cancellation_manager)\u001b[0m\n\u001b[1;32m    589\u001b[0m       \u001b[0;32mwith\u001b[0m \u001b[0m_InterpolateFunctionError\u001b[0m\u001b[0;34m(\u001b[0m\u001b[0mself\u001b[0m\u001b[0;34m)\u001b[0m\u001b[0;34m:\u001b[0m\u001b[0;34m\u001b[0m\u001b[0;34m\u001b[0m\u001b[0m\n\u001b[1;32m    590\u001b[0m         \u001b[0;32mif\u001b[0m \u001b[0mcancellation_manager\u001b[0m \u001b[0;32mis\u001b[0m \u001b[0;32mNone\u001b[0m\u001b[0;34m:\u001b[0m\u001b[0;34m\u001b[0m\u001b[0;34m\u001b[0m\u001b[0m\n\u001b[0;32m--> 591\u001b[0;31m           outputs = execute.execute(\n\u001b[0m\u001b[1;32m    592\u001b[0m               \u001b[0mstr\u001b[0m\u001b[0;34m(\u001b[0m\u001b[0mself\u001b[0m\u001b[0;34m.\u001b[0m\u001b[0msignature\u001b[0m\u001b[0;34m.\u001b[0m\u001b[0mname\u001b[0m\u001b[0;34m)\u001b[0m\u001b[0;34m,\u001b[0m\u001b[0;34m\u001b[0m\u001b[0;34m\u001b[0m\u001b[0m\n\u001b[1;32m    593\u001b[0m               \u001b[0mnum_outputs\u001b[0m\u001b[0;34m=\u001b[0m\u001b[0mself\u001b[0m\u001b[0;34m.\u001b[0m\u001b[0m_num_outputs\u001b[0m\u001b[0;34m,\u001b[0m\u001b[0;34m\u001b[0m\u001b[0;34m\u001b[0m\u001b[0m\n",
      "\u001b[0;32m~/miniforge3/envs/tensorflow/lib/python3.8/site-packages/tensorflow/python/eager/execute.py\u001b[0m in \u001b[0;36mquick_execute\u001b[0;34m(op_name, num_outputs, inputs, attrs, ctx, name)\u001b[0m\n\u001b[1;32m     57\u001b[0m   \u001b[0;32mtry\u001b[0m\u001b[0;34m:\u001b[0m\u001b[0;34m\u001b[0m\u001b[0;34m\u001b[0m\u001b[0m\n\u001b[1;32m     58\u001b[0m     \u001b[0mctx\u001b[0m\u001b[0;34m.\u001b[0m\u001b[0mensure_initialized\u001b[0m\u001b[0;34m(\u001b[0m\u001b[0;34m)\u001b[0m\u001b[0;34m\u001b[0m\u001b[0;34m\u001b[0m\u001b[0m\n\u001b[0;32m---> 59\u001b[0;31m     tensors = pywrap_tfe.TFE_Py_Execute(ctx._handle, device_name, op_name,\n\u001b[0m\u001b[1;32m     60\u001b[0m                                         inputs, attrs, num_outputs)\n\u001b[1;32m     61\u001b[0m   \u001b[0;32mexcept\u001b[0m \u001b[0mcore\u001b[0m\u001b[0;34m.\u001b[0m\u001b[0m_NotOkStatusException\u001b[0m \u001b[0;32mas\u001b[0m \u001b[0me\u001b[0m\u001b[0;34m:\u001b[0m\u001b[0;34m\u001b[0m\u001b[0;34m\u001b[0m\u001b[0m\n",
      "\u001b[0;31mKeyboardInterrupt\u001b[0m: "
     ]
    }
   ],
   "source": [
    "tmp_base_dir = 'tmp/'\n",
    "runner = runner_lib.TrainRunner(\n",
    "    base_dir=tmp_base_dir,\n",
    "    create_agent_fn=create_agent,\n",
    "    env=interest_evolution.create_environment(env_config),\n",
    "    episode_log_file=\"base_dir/eval/\",\n",
    "    max_training_steps=50,\n",
    "    num_iterations=10)\n",
    "runner.run_experiment()"
   ]
  },
  {
   "cell_type": "code",
   "execution_count": null,
   "metadata": {},
   "outputs": [],
   "source": [
    "runner = runner_lib.EvalRunner(\n",
    "    base_dir=tmp_base_dir,\n",
    "    create_agent_fn=create_agent,\n",
    "    env=interest_evolution.create_environment(env_config),\n",
    "    max_eval_episodes=5,\n",
    "    test_mode=True)\n",
    "runner.run_experiment()"
   ]
  },
  {
   "cell_type": "code",
   "execution_count": null,
   "metadata": {},
   "outputs": [],
   "source": []
  },
  {
   "cell_type": "code",
   "execution_count": null,
   "metadata": {},
   "outputs": [],
   "source": []
  },
  {
   "cell_type": "code",
   "execution_count": 881,
   "metadata": {},
   "outputs": [],
   "source": [
    "observation, reward, done, _ = ie_environment.step([1])"
   ]
  },
  {
   "cell_type": "code",
   "execution_count": 882,
   "metadata": {},
   "outputs": [
    {
     "data": {
      "text/plain": [
       "{'user': array([], dtype=float64),\n",
       " 'doc': OrderedDict([('680', {'quality': array(1.27011648), 'cluster_id': 1}),\n",
       "              ('681', {'quality': array(1.15033257), 'cluster_id': 1}),\n",
       "              ('682', {'quality': array(1.18426715), 'cluster_id': 1}),\n",
       "              ('683', {'quality': array(1.43637473), 'cluster_id': 1}),\n",
       "              ('684', {'quality': array(1.03267816), 'cluster_id': 1}),\n",
       "              ('685', {'quality': array(1.13182232), 'cluster_id': 1}),\n",
       "              ('686', {'quality': array(1.29367271), 'cluster_id': 1}),\n",
       "              ('687', {'quality': array(1.99299066), 'cluster_id': 0}),\n",
       "              ('688', {'quality': array(1.28723461), 'cluster_id': 1}),\n",
       "              ('689', {'quality': array(1.34061961), 'cluster_id': 1}),\n",
       "              ('690', {'quality': array(1.41236175), 'cluster_id': 1}),\n",
       "              ('691', {'quality': array(1.02730772), 'cluster_id': 1}),\n",
       "              ('692', {'quality': array(1.2054013), 'cluster_id': 1}),\n",
       "              ('693', {'quality': array(1.20120422), 'cluster_id': 1}),\n",
       "              ('694', {'quality': array(1.40332918), 'cluster_id': 1}),\n",
       "              ('695', {'quality': array(1.31973705), 'cluster_id': 1}),\n",
       "              ('696', {'quality': array(1.34168982), 'cluster_id': 1}),\n",
       "              ('697', {'quality': array(1.27671783), 'cluster_id': 1}),\n",
       "              ('698', {'quality': array(1.51518308), 'cluster_id': 1}),\n",
       "              ('699', {'quality': array(2.09794233), 'cluster_id': 0}),\n",
       "              ('700', {'quality': array(1.15788279), 'cluster_id': 1}),\n",
       "              ('701', {'quality': array(1.285596), 'cluster_id': 1}),\n",
       "              ('702', {'quality': array(1.40415962), 'cluster_id': 1}),\n",
       "              ('703', {'quality': array(1.19433239), 'cluster_id': 1}),\n",
       "              ('704', {'quality': array(1.17606351), 'cluster_id': 1}),\n",
       "              ('705', {'quality': array(1.16954826), 'cluster_id': 1}),\n",
       "              ('706', {'quality': array(1.29322571), 'cluster_id': 1}),\n",
       "              ('707', {'quality': array(1.21690527), 'cluster_id': 1}),\n",
       "              ('708', {'quality': array(1.24322562), 'cluster_id': 1}),\n",
       "              ('709', {'quality': array(1.3574718), 'cluster_id': 1}),\n",
       "              ('710', {'quality': array(1.43394627), 'cluster_id': 1}),\n",
       "              ('711', {'quality': array(0.9930976), 'cluster_id': 1}),\n",
       "              ('712', {'quality': array(1.15310177), 'cluster_id': 1}),\n",
       "              ('713', {'quality': array(2.28784277), 'cluster_id': 0}),\n",
       "              ('714', {'quality': array(1.13257387), 'cluster_id': 1}),\n",
       "              ('715', {'quality': array(1.34132315), 'cluster_id': 1}),\n",
       "              ('716', {'quality': array(1.27422323), 'cluster_id': 1}),\n",
       "              ('717', {'quality': array(1.37405774), 'cluster_id': 1}),\n",
       "              ('718', {'quality': array(2.67745598), 'cluster_id': 0}),\n",
       "              ('719', {'quality': array(1.13471754), 'cluster_id': 1})]),\n",
       " 'response': ({'click': 0, 'quality': array(1.40299485), 'cluster_id': 1},)}"
      ]
     },
     "execution_count": 882,
     "metadata": {},
     "output_type": "execute_result"
    }
   ],
   "source": [
    "observation"
   ]
  },
  {
   "cell_type": "code",
   "execution_count": 883,
   "metadata": {},
   "outputs": [],
   "source": [
    "observation, reward, done, _ = ie_environment.step([1])"
   ]
  },
  {
   "cell_type": "code",
   "execution_count": 884,
   "metadata": {},
   "outputs": [
    {
     "data": {
      "text/plain": [
       "{'user': array([], dtype=float64),\n",
       " 'doc': OrderedDict([('720', {'quality': array(1.0986288), 'cluster_id': 1}),\n",
       "              ('721', {'quality': array(1.15631395), 'cluster_id': 1}),\n",
       "              ('722', {'quality': array(1.26735207), 'cluster_id': 1}),\n",
       "              ('723', {'quality': array(2.22840757), 'cluster_id': 0}),\n",
       "              ('724', {'quality': array(1.14385049), 'cluster_id': 1}),\n",
       "              ('725', {'quality': array(1.26234185), 'cluster_id': 1}),\n",
       "              ('726', {'quality': array(1.283195), 'cluster_id': 1}),\n",
       "              ('727', {'quality': array(1.25626398), 'cluster_id': 1}),\n",
       "              ('728', {'quality': array(0.94039086), 'cluster_id': 1}),\n",
       "              ('729', {'quality': array(1.28147349), 'cluster_id': 1}),\n",
       "              ('730', {'quality': array(1.20743076), 'cluster_id': 1}),\n",
       "              ('731', {'quality': array(1.25219683), 'cluster_id': 1}),\n",
       "              ('732', {'quality': array(2.17716072), 'cluster_id': 0}),\n",
       "              ('733', {'quality': array(1.24853791), 'cluster_id': 1}),\n",
       "              ('734', {'quality': array(1.19483609), 'cluster_id': 1}),\n",
       "              ('735', {'quality': array(1.25710781), 'cluster_id': 1}),\n",
       "              ('736', {'quality': array(1.31080055), 'cluster_id': 1}),\n",
       "              ('737', {'quality': array(2.0498794), 'cluster_id': 0}),\n",
       "              ('738', {'quality': array(1.17755731), 'cluster_id': 1}),\n",
       "              ('739', {'quality': array(1.17677432), 'cluster_id': 1}),\n",
       "              ('740', {'quality': array(2.06613167), 'cluster_id': 0}),\n",
       "              ('741', {'quality': array(1.85794889), 'cluster_id': 0}),\n",
       "              ('742', {'quality': array(1.2196398), 'cluster_id': 1}),\n",
       "              ('743', {'quality': array(1.11483103), 'cluster_id': 1}),\n",
       "              ('744', {'quality': array(1.24357864), 'cluster_id': 1}),\n",
       "              ('745', {'quality': array(1.1336299), 'cluster_id': 1}),\n",
       "              ('746', {'quality': array(1.27254638), 'cluster_id': 1}),\n",
       "              ('747', {'quality': array(1.25545161), 'cluster_id': 1}),\n",
       "              ('748', {'quality': array(2.39559933), 'cluster_id': 0}),\n",
       "              ('749', {'quality': array(1.05604957), 'cluster_id': 1}),\n",
       "              ('750', {'quality': array(1.10684549), 'cluster_id': 1}),\n",
       "              ('751', {'quality': array(1.1713156), 'cluster_id': 1}),\n",
       "              ('752', {'quality': array(1.14024538), 'cluster_id': 1}),\n",
       "              ('753', {'quality': array(1.33310292), 'cluster_id': 1}),\n",
       "              ('754', {'quality': array(2.09226978), 'cluster_id': 0}),\n",
       "              ('755', {'quality': array(1.25188122), 'cluster_id': 1}),\n",
       "              ('756', {'quality': array(1.24985261), 'cluster_id': 1}),\n",
       "              ('757', {'quality': array(1.37444927), 'cluster_id': 1}),\n",
       "              ('758', {'quality': array(0.97093653), 'cluster_id': 1}),\n",
       "              ('759', {'quality': array(1.51504587), 'cluster_id': 1})]),\n",
       " 'response': ({'click': 0, 'quality': array(1.15033257), 'cluster_id': 1},)}"
      ]
     },
     "execution_count": 884,
     "metadata": {},
     "output_type": "execute_result"
    }
   ],
   "source": [
    "observation"
   ]
  },
  {
   "cell_type": "code",
   "execution_count": null,
   "metadata": {},
   "outputs": [],
   "source": []
  },
  {
   "cell_type": "code",
   "execution_count": null,
   "metadata": {},
   "outputs": [],
   "source": []
  },
  {
   "cell_type": "code",
   "execution_count": null,
   "metadata": {},
   "outputs": [],
   "source": []
  },
  {
   "cell_type": "code",
   "execution_count": null,
   "metadata": {},
   "outputs": [],
   "source": []
  },
  {
   "cell_type": "code",
   "execution_count": null,
   "metadata": {},
   "outputs": [],
   "source": []
  },
  {
   "cell_type": "code",
   "execution_count": null,
   "metadata": {},
   "outputs": [],
   "source": []
  },
  {
   "cell_type": "code",
   "execution_count": null,
   "metadata": {},
   "outputs": [],
   "source": []
  },
  {
   "cell_type": "code",
   "execution_count": null,
   "metadata": {},
   "outputs": [],
   "source": []
  },
  {
   "cell_type": "code",
   "execution_count": null,
   "metadata": {},
   "outputs": [],
   "source": []
  },
  {
   "cell_type": "code",
   "execution_count": null,
   "metadata": {},
   "outputs": [],
   "source": []
  },
  {
   "cell_type": "code",
   "execution_count": null,
   "metadata": {},
   "outputs": [],
   "source": []
  },
  {
   "cell_type": "code",
   "execution_count": 91,
   "metadata": {},
   "outputs": [],
   "source": [
    "model = keras.Sequential()\n",
    "model.add(layers.Dense(120, activation='relu'))\n",
    "model.add(layers.Dense(120, activation='relu'))"
   ]
  },
  {
   "cell_type": "code",
   "execution_count": null,
   "metadata": {},
   "outputs": [],
   "source": []
  },
  {
   "cell_type": "code",
   "execution_count": null,
   "metadata": {},
   "outputs": [],
   "source": []
  },
  {
   "cell_type": "code",
   "execution_count": null,
   "metadata": {},
   "outputs": [],
   "source": []
  },
  {
   "cell_type": "code",
   "execution_count": null,
   "metadata": {},
   "outputs": [],
   "source": []
  },
  {
   "cell_type": "code",
   "execution_count": null,
   "metadata": {},
   "outputs": [],
   "source": []
  },
  {
   "cell_type": "code",
   "execution_count": null,
   "metadata": {},
   "outputs": [],
   "source": []
  },
  {
   "cell_type": "code",
   "execution_count": null,
   "metadata": {},
   "outputs": [],
   "source": []
  },
  {
   "cell_type": "code",
   "execution_count": 836,
   "metadata": {},
   "outputs": [],
   "source": [
    "class GreedyClusterAgent(agent.AbstractEpisodicRecommenderAgent):\n",
    "  \"\"\"Simple agent sorting all documents of a topic according to quality.\"\"\"\n",
    "\n",
    "  def __init__(self, observation_space, action_space, cluster_id, **kwargs):\n",
    "    del observation_space\n",
    "    super(GreedyClusterAgent, self).__init__(action_space)\n",
    "    self._cluster_id = cluster_id\n",
    "\n",
    "    def step(self, reward, observation):\n",
    "        del reward\n",
    "        my_docs = []\n",
    "        my_doc_quality = []\n",
    "        for i, doc in enumerate(observation['doc'].values()):\n",
    "            if doc['cluster_id'] == self._cluster_id:\n",
    "                my_docs.append(i)\n",
    "                my_doc_quality.append(doc['quality'])\n",
    "        if not bool(my_docs):\n",
    "            return []\n",
    "        sorted_indices = np.argsort(my_doc_quality)[::-1]\n",
    "        return list(np.array(my_docs)[sorted_indices])"
   ]
  },
  {
   "cell_type": "code",
   "execution_count": null,
   "metadata": {},
   "outputs": [],
   "source": []
  },
  {
   "cell_type": "code",
   "execution_count": null,
   "metadata": {},
   "outputs": [],
   "source": []
  },
  {
   "cell_type": "code",
   "execution_count": null,
   "metadata": {},
   "outputs": [],
   "source": []
  },
  {
   "cell_type": "code",
   "execution_count": null,
   "metadata": {},
   "outputs": [],
   "source": []
  },
  {
   "cell_type": "code",
   "execution_count": null,
   "metadata": {},
   "outputs": [],
   "source": []
  },
  {
   "cell_type": "code",
   "execution_count": null,
   "metadata": {},
   "outputs": [],
   "source": []
  },
  {
   "cell_type": "code",
   "execution_count": null,
   "metadata": {},
   "outputs": [],
   "source": []
  },
  {
   "cell_type": "code",
   "execution_count": null,
   "metadata": {},
   "outputs": [],
   "source": []
  },
  {
   "cell_type": "code",
   "execution_count": null,
   "metadata": {},
   "outputs": [],
   "source": []
  },
  {
   "cell_type": "code",
   "execution_count": null,
   "metadata": {},
   "outputs": [],
   "source": []
  },
  {
   "cell_type": "code",
   "execution_count": null,
   "metadata": {},
   "outputs": [],
   "source": []
  },
  {
   "cell_type": "code",
   "execution_count": null,
   "metadata": {},
   "outputs": [],
   "source": []
  },
  {
   "cell_type": "code",
   "execution_count": 37,
   "metadata": {
    "id": "pFwHdLwON4Hs"
   },
   "outputs": [],
   "source": [
    "from recsim.agents.layers.cluster_click_statistics import ClusterClickStatsLayer"
   ]
  },
  {
   "cell_type": "code",
   "execution_count": null,
   "metadata": {
    "id": "aAXJ4UoXV4u-"
   },
   "outputs": [],
   "source": []
  },
  {
   "cell_type": "code",
   "execution_count": 38,
   "metadata": {
    "colab": {
     "base_uri": "https://localhost:8080/"
    },
    "id": "XalZUHMyV5kt",
    "outputId": "9a37fb5b-94f0-438c-955c-3d77147cbfa7"
   },
   "outputs": [
    {
     "name": "stdout",
     "output_type": "stream",
     "text": [
      "{'user': array([], dtype=float64), 'doc': OrderedDict([('30', {'quality': array(2.48922445), 'cluster_id': 0}), ('31', {'quality': array(2.12592661), 'cluster_id': 0}), ('32', {'quality': array(1.27448139), 'cluster_id': 1}), ('33', {'quality': array(1.21799112), 'cluster_id': 1}), ('34', {'quality': array(1.17770375), 'cluster_id': 1}), ('35', {'quality': array(2.07948915), 'cluster_id': 0}), ('36', {'quality': array(1.14167652), 'cluster_id': 1}), ('37', {'quality': array(1.20529165), 'cluster_id': 1}), ('38', {'quality': array(1.2424684), 'cluster_id': 1}), ('39', {'quality': array(1.87279668), 'cluster_id': 0}), ('40', {'quality': array(1.19644888), 'cluster_id': 1}), ('41', {'quality': array(1.28254021), 'cluster_id': 1}), ('42', {'quality': array(2.01558539), 'cluster_id': 0}), ('43', {'quality': array(2.46400483), 'cluster_id': 0}), ('44', {'quality': array(1.33980633), 'cluster_id': 1})]), 'response': ({'click': 0, 'quality': array(1.22720163), 'cluster_id': 1}, {'click': 0, 'quality': array(1.29258489), 'cluster_id': 1})}\n"
     ]
    },
    {
     "data": {
      "text/plain": [
       "[0, 1]"
      ]
     },
     "execution_count": 38,
     "metadata": {},
     "output_type": "execute_result"
    }
   ],
   "source": [
    "static_agent = StaticAgent(ie_environment.observation_space,\n",
    "                           ie_environment.action_space)\n",
    "static_agent.step(reward, observation)"
   ]
  },
  {
   "cell_type": "code",
   "execution_count": 34,
   "metadata": {
    "colab": {
     "base_uri": "https://localhost:8080/"
    },
    "id": "K3ca3I1EV5id",
    "outputId": "b059cc27-f473-4770-a5ac-f3ab0675a6ed"
   },
   "outputs": [
    {
     "name": "stdout",
     "output_type": "stream",
     "text": [
      "{'user': {'raw_observation': array([], dtype=float64), 'sufficient_statistics': {'impression_count': array([0, 2]), 'click_count': array([0, 0])}}, 'doc': OrderedDict([('30', {'quality': array(2.48922445), 'cluster_id': 0}), ('31', {'quality': array(2.12592661), 'cluster_id': 0}), ('32', {'quality': array(1.27448139), 'cluster_id': 1}), ('33', {'quality': array(1.21799112), 'cluster_id': 1}), ('34', {'quality': array(1.17770375), 'cluster_id': 1}), ('35', {'quality': array(2.07948915), 'cluster_id': 0}), ('36', {'quality': array(1.14167652), 'cluster_id': 1}), ('37', {'quality': array(1.20529165), 'cluster_id': 1}), ('38', {'quality': array(1.2424684), 'cluster_id': 1}), ('39', {'quality': array(1.87279668), 'cluster_id': 0}), ('40', {'quality': array(1.19644888), 'cluster_id': 1}), ('41', {'quality': array(1.28254021), 'cluster_id': 1}), ('42', {'quality': array(2.01558539), 'cluster_id': 0}), ('43', {'quality': array(2.46400483), 'cluster_id': 0}), ('44', {'quality': array(1.33980633), 'cluster_id': 1})]), 'response': ({'click': 0, 'quality': array(1.22720163), 'cluster_id': 1}, {'click': 0, 'quality': array(1.29258489), 'cluster_id': 1})}\n"
     ]
    },
    {
     "data": {
      "text/plain": [
       "[0, 1]"
      ]
     },
     "execution_count": 34,
     "metadata": {},
     "output_type": "execute_result"
    }
   ],
   "source": [
    "cluster_static_agent = ClusterClickStatsLayer(StaticAgent,\n",
    "                                              ie_environment.observation_space,\n",
    "                                              ie_environment.action_space)\n",
    "cluster_static_agent.step(reward, observation)"
   ]
  },
  {
   "cell_type": "code",
   "execution_count": 35,
   "metadata": {
    "id": "kC78MYgIV5gL"
   },
   "outputs": [],
   "source": [
    "from recsim.agents.layers.abstract_click_bandit import AbstractClickBanditLayer"
   ]
  },
  {
   "cell_type": "code",
   "execution_count": 36,
   "metadata": {
    "id": "FfyGRYUqV5dt"
   },
   "outputs": [],
   "source": [
    "class GreedyClusterAgent(agent.AbstractEpisodicRecommenderAgent):\n",
    "  \"\"\"Simple agent sorting all documents of a topic according to quality.\"\"\"\n",
    "\n",
    "  def __init__(self, observation_space, action_space, cluster_id, **kwargs):\n",
    "    del observation_space\n",
    "    super(GreedyClusterAgent, self).__init__(action_space)\n",
    "    self._cluster_id = cluster_id\n",
    "\n",
    "  def step(self, reward, observation):\n",
    "    del reward\n",
    "    my_docs = []\n",
    "    my_doc_quality = []\n",
    "    for i, doc in enumerate(observation['doc'].values()):\n",
    "      if doc['cluster_id'] == self._cluster_id:\n",
    "        my_docs.append(i)\n",
    "        my_doc_quality.append(doc['quality'])\n",
    "    if not bool(my_docs):\n",
    "      return []\n",
    "    sorted_indices = np.argsort(my_doc_quality)[::-1]\n",
    "    return list(np.array(my_docs)[sorted_indices])"
   ]
  },
  {
   "cell_type": "code",
   "execution_count": 37,
   "metadata": {
    "id": "32dNPiKJV5T6"
   },
   "outputs": [],
   "source": [
    "  num_topics = list(ie_environment.observation_space.spaces['doc']\n",
    "                    .spaces.values())[0].spaces['cluster_id'].n\n",
    "  base_agent_ctors = [\n",
    "      functools.partial(GreedyClusterAgent, cluster_id=i)\n",
    "      for i in range(num_topics)\n",
    "  ]"
   ]
  },
  {
   "cell_type": "code",
   "execution_count": 38,
   "metadata": {
    "id": "5hIqFvvJaRBC"
   },
   "outputs": [],
   "source": [
    "bandit_ctor = functools.partial(AbstractClickBanditLayer,\n",
    "                                arm_base_agent_ctors=base_agent_ctors)\n",
    "cluster_bandit = ClusterClickStatsLayer(bandit_ctor,\n",
    "                                        ie_environment.observation_space,\n",
    "                                        ie_environment.action_space)"
   ]
  },
  {
   "cell_type": "code",
   "execution_count": 39,
   "metadata": {
    "colab": {
     "base_uri": "https://localhost:8080/"
    },
    "id": "owL4k9l_abbD",
    "outputId": "c9b022a6-9e0e-4474-8318-461fc56c4c25"
   },
   "outputs": [
    {
     "name": "stdout",
     "output_type": "stream",
     "text": [
      "Cluster bandit slate 0:\n",
      "{'quality': array(1.46868751), 'cluster_id': 1}\n",
      "{'quality': array(1.42269182), 'cluster_id': 1}\n"
     ]
    }
   ],
   "source": [
    "observation0 = ie_environment.reset()\n",
    "slate = cluster_bandit.begin_episode(observation0)\n",
    "print(\"Cluster bandit slate 0:\")\n",
    "doc_list = list(observation0['doc'].values())\n",
    "for doc_position in slate:\n",
    "  print(doc_list[doc_position])"
   ]
  }
 ],
 "metadata": {
  "colab": {
   "collapsed_sections": [],
   "name": "Untitled2.ipynb",
   "provenance": []
  },
  "kernelspec": {
   "display_name": "Python 3 (ipykernel)",
   "language": "python",
   "name": "python3"
  },
  "language_info": {
   "codemirror_mode": {
    "name": "ipython",
    "version": 3
   },
   "file_extension": ".py",
   "mimetype": "text/x-python",
   "name": "python",
   "nbconvert_exporter": "python",
   "pygments_lexer": "ipython3",
   "version": "3.8.11"
  }
 },
 "nbformat": 4,
 "nbformat_minor": 4
}
